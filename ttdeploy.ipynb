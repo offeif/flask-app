{
 "cells": [
  {
   "cell_type": "code",
   "execution_count": 2,
   "metadata": {},
   "outputs": [
    {
     "name": "stderr",
     "output_type": "stream",
     "text": [
      "/usr/local/lib/python3.7/site-packages/sklearn/linear_model/logistic.py:432: FutureWarning: Default solver will be changed to 'lbfgs' in 0.22. Specify a solver to silence this warning.\n",
      "  FutureWarning)\n",
      "/usr/local/lib/python3.7/site-packages/sklearn/utils/validation.py:724: DataConversionWarning: A column-vector y was passed when a 1d array was expected. Please change the shape of y to (n_samples, ), for example using ravel().\n",
      "  y = column_or_1d(y, warn=True)\n"
     ]
    }
   ],
   "source": [
    "import pandas as pd\n",
    "import numpy as np\n",
    "import pickle\n",
    "from sklearn.linear_model import LogisticRegression\n",
    "from sklearn.model_selection import train_test_split\n",
    "\n",
    "# Reading dataframe and dropping rows with na values\n",
    "data = pd.read_csv(\"/Users/felixoffei/Desktop/Springboard/flask-deploy/flask-app/framingham.csv\")\n",
    "data.dropna(inplace=True)  # Consists 3658 records\n",
    "\n",
    "# Computing Correlation\n",
    "corr_matrix = data.corr().abs()\n",
    "high_corr_var = np.where(corr_matrix > 0.35)\n",
    "high_corr_var = [(corr_matrix.index[x], corr_matrix.columns[y]) for x, y in zip(*high_corr_var) if x != y and x < y]\n",
    "\n",
    "\"\"\"\n",
    "Variables to consider\n",
    "age: Age of a person (Input a number)\n",
    "smoker: Yes or No\n",
    "Cigs per day: (Input a number)\n",
    "diabaties: Yes or No\n",
    "bmi: weight(Kg) and height(meters) calculate\n",
    "BP: input a number\n",
    "\"\"\"\n",
    "\n",
    "\n",
    "def bmi(weight, height):\n",
    "    return round(float(weight) / (float(height) * float(height)), 2)\n",
    "\n",
    "\n",
    "X_cols = ['male', 'age', 'currentSmoker', 'cigsPerDay', 'diabetes',\n",
    "          'sysBP', 'BMI']\n",
    "Y_col = ['TenYearCHD']\n",
    "\n",
    "X_vars = data[X_cols]\n",
    "Y_var = data[Y_col]\n",
    "\n",
    "# Renaming Columns\n",
    "X_vars.columns = ['Gender', 'Age', 'Smoker', 'Cigarettes_Per_Day',\n",
    "                  'Diabetic', 'BP', 'BMI']\n",
    "Y_var.columns = ['Chances_of_hear_disease']\n",
    "\n",
    "# Splitting data\n",
    "X_train, X_test, y_train, y_test = train_test_split(X_vars, Y_var, test_size=0.25, random_state=0)\n",
    "\n",
    "# Initiate the Model\n",
    "logreg = LogisticRegression()\n",
    "\n",
    "# fit the model with data\n",
    "logreg.fit(X_train, y_train)\n",
    "\n",
    "# pickle model\n",
    "pickle.dump(logreg, open('model.pkl', 'wb'))"
   ]
  },
  {
   "cell_type": "code",
   "execution_count": null,
   "metadata": {},
   "outputs": [],
   "source": []
  }
 ],
 "metadata": {
  "kernelspec": {
   "display_name": "Python 3",
   "language": "python",
   "name": "python3"
  },
  "language_info": {
   "codemirror_mode": {
    "name": "ipython",
    "version": 3
   },
   "file_extension": ".py",
   "mimetype": "text/x-python",
   "name": "python",
   "nbconvert_exporter": "python",
   "pygments_lexer": "ipython3",
   "version": "3.7.3"
  }
 },
 "nbformat": 4,
 "nbformat_minor": 2
}
